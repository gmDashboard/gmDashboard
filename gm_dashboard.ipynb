{
 "cells": [
  {
   "cell_type": "code",
   "execution_count": 385,
   "id": "307bcde5",
   "metadata": {},
   "outputs": [],
   "source": [
    "import matplotlib.pyplot as plt\n",
    "import numpy as np\n",
    "import pandas as pd\n",
    "import re\n",
    "import seaborn as sns\n",
    "from ipywidgets import interact\n",
    "%matplotlib inline"
   ]
  },
  {
   "cell_type": "code",
   "execution_count": 362,
   "id": "e7ea4fee",
   "metadata": {},
   "outputs": [],
   "source": [
    "df = pd.read_csv(r\"/Users/huntersprigings/Desktop/20240324_224100.csv\")\n",
    "df.columns = ['category','brand', 'product','size','province','store_count','total_stores','perc_stores','avg_price','date']\n",
    "df['brand'] = df['brand'].apply(lambda x: x.split('zz_comp_')[1:] if 'zz_comp_' in x else x)\n",
    "df['brand'] = df['brand'].apply(lambda x : \" \".join(x))\n",
    "df['brand'] = df['brand'].apply(lambda x : 'Green Monke' if x == 'G R E E N   M O N K E' else x)"
   ]
  },
  {
   "cell_type": "code",
   "execution_count": 367,
   "id": "1d81441a",
   "metadata": {},
   "outputs": [
    {
     "data": {
      "application/vnd.jupyter.widget-view+json": {
       "model_id": "ffd0734bd3a546b989c146d5a0b72c8c",
       "version_major": 2,
       "version_minor": 0
      },
      "text/plain": [
       "interactive(children=(Dropdown(description='province', options=('ON', 'AB', 'BC', 'QC', 'MB', 'SK', 'NS', 'NL'…"
      ]
     },
     "metadata": {},
     "output_type": "display_data"
    },
    {
     "data": {
      "text/plain": [
       "<function __main__.store_counts_plt(province, date)>"
      ]
     },
     "execution_count": 367,
     "metadata": {},
     "output_type": "execute_result"
    }
   ],
   "source": [
    "import matplotlib.pyplot as plt\n",
    "import pandas as pd\n",
    "from ipywidgets import interact\n",
    "\n",
    "# Assuming df is a global variable\n",
    "\n",
    "def store_counts_plt(province,date):\n",
    "    global df  \n",
    "    \n",
    "    #Filter for date selector\n",
    "    most_recent_date = df.sort_values(by='date',ascending=False)\n",
    "    most_recent_date = most_recent_date.loc[0,'date']\n",
    "    \n",
    "\n",
    "    if date == 'L1Wk':\n",
    "        date_boundary = most_recent_date\n",
    "\n",
    "    elif date == 'L2Wks':\n",
    "        date_boundary = pd.to_datetime(most_recent_date) - pd.Timedelta(days=7)\n",
    "\n",
    "    elif date == 'L4Wks':\n",
    "        date_boundary = pd.to_datetime(most_recent_date) - pd.Timedelta(days=21)\n",
    "\n",
    "    elif date == 'L12Wks':\n",
    "        date_boundary = pd.to_datetime(most_recent_date) - pd.Timedelta(days=77)\n",
    "\n",
    "    elif date == 'L52Wks':\n",
    "        date_boundary = pd.to_datetime(most_recent_date) - pd.Timedelta(days=357)\n",
    "\n",
    "\n",
    "    df_filtered = df[pd.to_datetime(df['date']) >= date_boundary]\n",
    "    date_boundary = pd.to_datetime(date_boundary).strftime(\"%Y-%m-%y\")\n",
    "    \n",
    "\n",
    "    #Group By The brand levels and dates\n",
    "    df_filtered = df_filtered[df_filtered['province'] == province]\n",
    "    df_filtered['store_count'] = pd.to_numeric(df_filtered['store_count'])\n",
    "    df_grouped = df_filtered.groupby(['date','brand']).agg({\n",
    "        'store_count': 'sum',\n",
    "    }).unstack(fill_value=0)\n",
    "    \n",
    "    #return df_grouped\n",
    "\n",
    "    # Plot the stacked bar plot with the custom color palette\n",
    "    ax = df_grouped.plot(kind='bar',stacked=True)\n",
    "\n",
    "    # Remove the legend\n",
    "    ax.legend(df['brand'].unique(),bbox_to_anchor=(1.1, 1.05))\n",
    "    plt.title(f'Average Number of Sores in {province} by brand during {date} between \\n {date_boundary} and {most_recent_date}')\n",
    "    plt.xticks(rotation=0)\n",
    "    # Show the plot\n",
    "    plt.show()\n",
    "\n",
    "interact(store_counts_plt, province=df['province'].unique(),date = ['L1Wk','L2Wks','L4Wks','L12Wks','L52Wks'])"
   ]
  },
  {
   "cell_type": "code",
   "execution_count": null,
   "id": "09801103",
   "metadata": {},
   "outputs": [],
   "source": []
  },
  {
   "cell_type": "code",
   "execution_count": null,
   "id": "40e2e1eb",
   "metadata": {},
   "outputs": [],
   "source": []
  },
  {
   "cell_type": "code",
   "execution_count": null,
   "id": "8d3c74ec",
   "metadata": {},
   "outputs": [],
   "source": []
  }
 ],
 "metadata": {
  "kernelspec": {
   "display_name": "Python 3 (ipykernel)",
   "language": "python",
   "name": "python3"
  },
  "language_info": {
   "codemirror_mode": {
    "name": "ipython",
    "version": 3
   },
   "file_extension": ".py",
   "mimetype": "text/x-python",
   "name": "python",
   "nbconvert_exporter": "python",
   "pygments_lexer": "ipython3",
   "version": "3.11.4"
  }
 },
 "nbformat": 4,
 "nbformat_minor": 5
}
